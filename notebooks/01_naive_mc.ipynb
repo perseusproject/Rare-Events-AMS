{
 "cells": [
  {
   "cell_type": "markdown",
   "metadata": {},
   "source": [
    "# Phase 1: Naive Monte Carlo Simulation\n",
    "\n",
    "This notebook implements the naive Monte Carlo approach for estimating transition probabilities in the double well potential system."
   ]
  },
  {
   "cell_type": "markdown",
   "metadata": {},
   "source": [
    "## Setup and Imports"
   ]
  },
  {
   "cell_type": "code",
   "execution_count": 1,
   "metadata": {},
   "outputs": [
    {
     "name": "stderr",
     "output_type": "stream",
     "text": [
      "Matplotlib is building the font cache; this may take a moment.\n"
     ]
    },
    {
     "ename": "ImportError",
     "evalue": "attempted relative import with no known parent package",
     "output_type": "error",
     "traceback": [
      "\u001b[31m---------------------------------------------------------------------------\u001b[39m",
      "\u001b[31mImportError\u001b[39m                               Traceback (most recent call last)",
      "\u001b[36mCell\u001b[39m\u001b[36m \u001b[39m\u001b[32mIn[1]\u001b[39m\u001b[32m, line 16\u001b[39m\n\u001b[32m     14\u001b[39m \u001b[38;5;28;01mfrom\u001b[39;00m\u001b[38;5;250m \u001b[39m\u001b[34;01mdetectors\u001b[39;00m\u001b[38;5;250m \u001b[39m\u001b[38;5;28;01mimport\u001b[39;00m in_region_A, in_region_B, check_absorption, simulate_until_absorption\n\u001b[32m     15\u001b[39m \u001b[38;5;28;01mfrom\u001b[39;00m\u001b[38;5;250m \u001b[39m\u001b[34;01mmonte_carlo\u001b[39;00m\u001b[38;5;250m \u001b[39m\u001b[38;5;28;01mimport\u001b[39;00m run_naive_mc, print_results_summary\n\u001b[32m---> \u001b[39m\u001b[32m16\u001b[39m \u001b[38;5;28;01mfrom\u001b[39;00m\u001b[38;5;250m \u001b[39m\u001b[34;01mutils\u001b[39;00m\u001b[38;5;250m \u001b[39m\u001b[38;5;28;01mimport\u001b[39;00m plot_potential_field, plot_trajectory, plot_absorption_time_histogram, save_figure\n\u001b[32m     18\u001b[39m \u001b[38;5;66;03m# Set plotting style\u001b[39;00m\n\u001b[32m     19\u001b[39m plt.style.use(\u001b[33m'\u001b[39m\u001b[33mdefault\u001b[39m\u001b[33m'\u001b[39m)\n",
      "\u001b[36mFile \u001b[39m\u001b[32m~/Desktop/EA Recherche/notebooks/../src/utils.py:9\u001b[39m\n\u001b[32m      7\u001b[39m \u001b[38;5;28;01mfrom\u001b[39;00m\u001b[38;5;250m \u001b[39m\u001b[34;01mmatplotlib\u001b[39;00m\u001b[34;01m.\u001b[39;00m\u001b[34;01mpatches\u001b[39;00m\u001b[38;5;250m \u001b[39m\u001b[38;5;28;01mimport\u001b[39;00m Circle, Rectangle\n\u001b[32m      8\u001b[39m \u001b[38;5;28;01mimport\u001b[39;00m\u001b[38;5;250m \u001b[39m\u001b[34;01mmatplotlib\u001b[39;00m\u001b[34;01m.\u001b[39;00m\u001b[34;01mcolors\u001b[39;00m\u001b[38;5;250m \u001b[39m\u001b[38;5;28;01mas\u001b[39;00m\u001b[38;5;250m \u001b[39m\u001b[34;01mmcolors\u001b[39;00m\n\u001b[32m----> \u001b[39m\u001b[32m9\u001b[39m \u001b[38;5;28;01mfrom\u001b[39;00m\u001b[38;5;250m \u001b[39m\u001b[34;01m.\u001b[39;00m\u001b[34;01mpotentials\u001b[39;00m\u001b[38;5;250m \u001b[39m\u001b[38;5;28;01mimport\u001b[39;00m create_potential_grid\n\u001b[32m     12\u001b[39m \u001b[38;5;28;01mdef\u001b[39;00m\u001b[38;5;250m \u001b[39m\u001b[34mplot_potential_field\u001b[39m(omega=\u001b[32m1.0\u001b[39m, x_range=(-\u001b[32m2\u001b[39m, \u001b[32m2\u001b[39m), y_range=(-\u001b[32m2\u001b[39m, \u001b[32m2\u001b[39m), n_points=\u001b[32m100\u001b[39m,\n\u001b[32m     13\u001b[39m                          show_regions=\u001b[38;5;28;01mTrue\u001b[39;00m, r_A=\u001b[32m0.2\u001b[39m, r_B=\u001b[32m0.2\u001b[39m, ax=\u001b[38;5;28;01mNone\u001b[39;00m):\n\u001b[32m     14\u001b[39m \u001b[38;5;250m    \u001b[39m\u001b[33;03m\"\"\"\u001b[39;00m\n\u001b[32m     15\u001b[39m \u001b[33;03m    Plot the double well potential field with regions A and B.\u001b[39;00m\n\u001b[32m     16\u001b[39m \n\u001b[32m   (...)\u001b[39m\u001b[32m     34\u001b[39m \u001b[33;03m    fig, ax : matplotlib figure and axes\u001b[39;00m\n\u001b[32m     35\u001b[39m \u001b[33;03m    \"\"\"\u001b[39;00m\n",
      "\u001b[31mImportError\u001b[39m: attempted relative import with no known parent package"
     ]
    }
   ],
   "source": [
    "import numpy as np\n",
    "import matplotlib.pyplot as plt\n",
    "import scipy.stats\n",
    "from tqdm import tqdm\n",
    "import sys\n",
    "import os\n",
    "\n",
    "# Add src directory to path\n",
    "sys.path.insert(0, os.path.join(os.getcwd(), '..', 'src'))\n",
    "\n",
    "# Import our modules\n",
    "from potentials import double_well_potential, double_well_gradient, create_potential_grid\n",
    "from integrators import euler_maruyama_step, euler_maruyama_trajectory\n",
    "from detectors import in_region_A, in_region_B, check_absorption, simulate_until_absorption\n",
    "from monte_carlo import run_naive_mc, print_results_summary\n",
    "from utils import plot_potential_field, plot_trajectory, plot_absorption_time_histogram, save_figure\n",
    "\n",
    "# Set plotting style\n",
    "plt.style.use('default')\n",
    "plt.rcParams['figure.figsize'] = [10, 6]\n",
    "plt.rcParams['font.size'] = 12\n",
    "plt.rcParams['axes.grid'] = True"
   ]
  },
  {
   "cell_type": "markdown",
   "metadata": {},
   "source": [
    "## 1. System Visualization\n",
    "\n",
    "First, let's visualize the double well potential and the regions A and B."
   ]
  },
  {
   "cell_type": "code",
   "execution_count": null,
   "metadata": {},
   "outputs": [],
   "source": [
    "# Plot the potential field\n",
    "fig, ax = plot_potential_field(omega=1.0, show_regions=True, r_A=0.2, r_B=0.2)\n",
    "plt.show()\n",
    "\n",
    "# Save the figure\n",
    "save_figure(fig, 'double_well_potential')"
   ]
  },
  {
   "cell_type": "markdown",
   "metadata": {},
   "source": [
    "## 2. Test Single Trajectory\n",
    "\n",
    "Let's simulate a single trajectory to understand the dynamics."
   ]
  },
  {
   "cell_type": "code",
   "execution_count": null,
   "metadata": {},
   "outputs": [],
   "source": [
    "# Parameters for single trajectory\n",
    "x0, y0 = -1.0, 0.0  # Start near left minimum\n",
    "dt = 0.01\n",
    "beta_inv = 0.5      # Moderate temperature\n",
    "max_steps = 5000\n",
    "omega = 1.0\n",
    "\n",
    "# Simulate until absorption\n",
    "trajectory, absorption_state, absorption_time = simulate_until_absorption(\n",
    "    x0, y0, dt, beta_inv, max_steps, omega\n",
    ")\n",
    "\n",
    "print(f\"Trajectory length: {len(trajectory)} steps\")\n",
    "print(f\"Absorption state: {absorption_state} (0=none, 1=A, 2=B)\")\n",
    "print(f\"Absorption time: {absorption_time} steps\")\n",
    "\n",
    "# Plot the trajectory\n",
    "fig, ax = plot_trajectory(trajectory, absorption_state)\n",
    "plt.show()\n",
    "\n",
    "save_figure(fig, 'single_trajectory')"
   ]
  },
  {
   "cell_type": "markdown",
   "metadata": {},
   "source": [
    "## 3. Naive Monte Carlo Simulation\n",
    "\n",
    "Now let's run multiple simulations to estimate the transition probability $p = \\mathbb{P}(\\tau_B < \\tau_A)$."
   ]
  },
  {
   "cell_type": "code",
   "execution_count": null,
   "metadata": {},
   "outputs": [],
   "source": [
    "# Parameters for Monte Carlo simulation\n",
    "n_simulations = 1000\n",
    "x0, y0 = -1.0, 0.0  # Start in left well\n",
    "dt = 0.01\n",
    "beta_inv = 0.5      # Moderate temperature\n",
    "max_steps = 10000\n",
    "omega = 1.0\n",
    "seed = 42\n",
    "\n",
    "print(\"Running naive Monte Carlo simulation...\")\n",
    "results = run_naive_mc(n_simulations, x0, y0, dt, beta_inv, max_steps, \n",
    "                       omega=omega, seed=seed)\n",
    "\n",
    "print_results_summary(results)"
   ]
  },
  {
   "cell_type": "markdown",
   "metadata": {},
   "source": [
    "## 4. Visualization of Results\n",
    "\n",
    "Let's visualize the distribution of absorption times."
   ]
  },
  {
   "cell_type": "code",
   "execution_count": null,
   "metadata": {},
   "outputs": [],
   "source": [
    "# Plot absorption time histogram\n",
    "fig, ax = plot_absorption_time_histogram(results)\n",
    "plt.show()\n",
    "\n",
    "save_figure(fig, 'absorption_time_histogram')"
   ]
  },
  {
   "cell_type": "markdown",
   "metadata": {},
   "source": [
    "## 5. Study of Time Step Δt\n",
    "\n",
    "Let's investigate the effect of different time steps on the results."
   ]
  },
  {
   "cell_type": "code",
   "execution_count": null,
   "metadata": {},
   "outputs": [],
   "source": [
    "dt_values = [0.001, 0.005, 0.01, 0.05]\n",
    "n_simulations_dt = 500  # Fewer simulations for faster computation\n",
    "\n",
    "dt_results = {}\n",
    "\n",
    "for dt in tqdm(dt_values, desc=\"Testing different Δt\"):\n",
    "    results_dt = run_naive_mc(n_simulations_dt, x0, y0, dt, beta_inv, max_steps, \n",
    "                             omega=omega, seed=seed)\n",
    "    dt_results[dt] = results_dt\n",
    "\n",
    "# Print results for comparison\n",
    "print(\"\\nComparison of results for different time steps:\")\n",
    "print(\"=\" * 60)\n",
    "for dt, res in dt_results.items():\n",
    "    print(f\"Δt = {dt:.4f}: p = {res['p_estimate']:.6f} \"\n",
    "          f\"CI95: [{res['ci_95'][0]:.6f}, {res['ci_95'][1]:.6f}]\")\n",
    "    print(f\"         B transitions: {res['n_B']}/{n_simulations_dt}\")"
   ]
  },
  {
   "cell_type": "markdown",
   "metadata": {},
   "source": [
    "## 6. Study of Temperature (β⁻¹)\n",
    "\n",
    "Let's investigate how temperature affects the transition probability."
   ]
  },
  {
   "cell_type": "code",
   "execution_count": null,
   "metadata": {},
   "outputs": [],
   "source": [
    "beta_inv_values = [0.1, 0.3, 0.5, 0.7, 1.0]\n",
    "n_simulations_temp = 500\n",
    "\n",
    "temp_results = {}\n",
    "\n",
    "for beta_inv in tqdm(beta_inv_values, desc=\"Testing different temperatures\"):\n",
    "    results_temp = run_naive_mc(n_simulations_temp, x0, y0, dt, beta_inv, max_steps, \n",
    "                               omega=omega, seed=seed)\n",
    "    temp_results[beta_inv] = results_temp\n",
    "\n",
    "# Print results for comparison\n",
    "print(\"\\nComparison of results for different temperatures:\")\n",
    "print(\"=\" * 70)\n",
    "for beta_inv, res in temp_results.items():\n",
    "    print(f\"β⁻¹ = {beta_inv:.2f}: p = {res['p_estimate']:.6f} \"\n",
    "          f\"CI95: [{res['ci_95'][0]:.6f}, {res['ci_95'][1]:.6f}]\")\n",
    "    print(f\"           B transitions: {res['n_B']}/{n_simulations_temp}\")"
   ]
  },
  {
   "cell_type": "markdown",
   "metadata": {},
   "source": [
    "## 7. Summary and Conclusions\n",
    "\n",
    "Let's create a summary table of our findings."
   ]
  },
  {
   "cell_type": "code",
   "execution_count": null,
   "metadata": {},
   "outputs": [],
   "source": [
    "print(\"SUMMARY OF NAIVE MONTE CARLO RESULTS\")\n",
    "print(\"=\" * 50)\n",
    "print(f\"Base parameters: ω={omega}, x0=({x0},{y0}), max_steps={max_steps}\")\n",
    "print()\n",
    "\n",
    "# Main result\n",
    "print(\"Main simulation (n=1000, dt=0.01, β⁻¹=0.5):\")\n",
    "print(f\"  p = {results['p_estimate']:.6f}\")\n",
    "print(f\"  95% CI: [{results['ci_95'][0]:.6f}, {results['ci_95'][1]:.6f}]\")\n",
    "print()\n",
    "\n",
    "# Time step study\n",
    "print(\"Time step study (n=500, β⁻¹=0.5):\")\n",
    "for dt, res in dt_results.items():\n",
    "    print(f\"  Δt={dt:.4f}: p={res['p_estimate']:.6f}\")\n",
    "print()\n",
    "\n",
    "# Temperature study\n",
    "print(\"Temperature study (n=500, dt=0.01):\")\n",
    "for beta_inv, res in temp_results.items():\n",
    "    print(f\"  β⁻¹={beta_inv:.2f}: p={res['p_estimate']:.6f}\")\n",
    "print()\n",
    "\n",
    "print(\"Conclusions:\")\n",
    "print(\"- The naive MC method provides reliable estimates for measurable probabilities\")\n",
    "print(\"- The method becomes inefficient for very rare events (p < 10^-3)\")\n",
    "print(\"- This motivates the need for more advanced methods like AMS\")"
   ]
  },
  {
   "cell_type": "markdown",
   "metadata": {},
   "source": [
    "## 8. Save Results\n",
    "\n",
    "Save the simulation results for future reference."
   ]
  },
  {
   "cell_type": "code",
   "execution_count": null,
   "metadata": {},
   "outputs": [],
   "source": [
    "import json\n",
    "import pickle\n",
    "\n",
    "# Create results directory\n",
    "os.makedirs('../experiments/results', exist_ok=True)\n",
    "\n",
    "# Save main results\n",
    "with open('../experiments/results/naive_mc_main.json', 'w') as f:\n",
    "    json.dump({\n",
    "        'parameters': {\n",
    "            'n_simulations': n_simulations,\n",
    "            'x0': x0, 'y0': y0,\n",
    "            'dt': dt, 'beta_inv': beta_inv,\n",
    "            'max_steps': max_steps,\n",
    "            'omega': omega,\n",
    "            'seed': seed\n",
    "        },\n",
    "        'results': {\n",
    "            'p_estimate': results['p_estimate'],\n",
    "            'ci_95': results['ci_95'],\n",
    "            'n_A': results['n_A'],\n",
    "            'n_B': results['n_B'],\n",
    "            'n_unabsorbed': results['n_unabsorbed']\n",
    "        }\n",
    "    }, f, indent=2)\n",
    "\n",
    "# Save full results with pickle\n",
    "with open('../experiments/results/naive_mc_full.pkl', 'wb') as f:\n",
    "    pickle.dump(results, f)\n",
    "\n",
    "print(\"Results saved to experiments/results/\")\n",
    "print(\"Phase 1 implementation complete!\")"
   ]
  }
 ],
 "metadata": {
  "kernelspec": {
   "display_name": "base",
   "language": "python",
   "name": "python3"
  },
  "language_info": {
   "codemirror_mode": {
    "name": "ipython",
    "version": 3
   },
   "file_extension": ".py",
   "mimetype": "text/x-python",
   "name": "python",
   "nbconvert_exporter": "python",
   "pygments_lexer": "ipython3",
   "version": "3.13.5"
  }
 },
 "nbformat": 4,
 "nbformat_minor": 4
}
